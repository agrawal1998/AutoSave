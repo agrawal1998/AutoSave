{
 "cells": [
  {
   "cell_type": "code",
   "execution_count": 22,
   "metadata": {},
   "outputs": [],
   "source": [
    "import pandas as pd"
   ]
  },
  {
   "cell_type": "code",
   "execution_count": 23,
   "metadata": {},
   "outputs": [],
   "source": [
    "df = pd.read_excel('products_list.xlsx')"
   ]
  },
  {
   "cell_type": "code",
   "execution_count": 24,
   "metadata": {},
   "outputs": [
    {
     "data": {
      "text/html": [
       "<div>\n",
       "<style scoped>\n",
       "    .dataframe tbody tr th:only-of-type {\n",
       "        vertical-align: middle;\n",
       "    }\n",
       "\n",
       "    .dataframe tbody tr th {\n",
       "        vertical-align: top;\n",
       "    }\n",
       "\n",
       "    .dataframe thead th {\n",
       "        text-align: right;\n",
       "    }\n",
       "</style>\n",
       "<table border=\"1\" class=\"dataframe\">\n",
       "  <thead>\n",
       "    <tr style=\"text-align: right;\">\n",
       "      <th></th>\n",
       "      <th>Product Name</th>\n",
       "      <th>Product Description</th>\n",
       "      <th>Product Price</th>\n",
       "    </tr>\n",
       "  </thead>\n",
       "  <tbody>\n",
       "    <tr>\n",
       "      <th>0</th>\n",
       "      <td>Temprature Monitoring softwares</td>\n",
       "      <td>Temperature Monitoring Software is a versatile...</td>\n",
       "      <td>$100</td>\n",
       "    </tr>\n",
       "    <tr>\n",
       "      <th>1</th>\n",
       "      <td>Length, Width &amp; Height Measurement machine</td>\n",
       "      <td>The Length, Width &amp; Height Measurement Machine...</td>\n",
       "      <td>$200</td>\n",
       "    </tr>\n",
       "    <tr>\n",
       "      <th>2</th>\n",
       "      <td>BCDI - Classification software</td>\n",
       "      <td>BCDI - Classification Software is a powerful t...</td>\n",
       "      <td>$300</td>\n",
       "    </tr>\n",
       "    <tr>\n",
       "      <th>3</th>\n",
       "      <td>BCDI - Detection software</td>\n",
       "      <td>BCDI - Detection Software is an intelligent so...</td>\n",
       "      <td>$400</td>\n",
       "    </tr>\n",
       "    <tr>\n",
       "      <th>4</th>\n",
       "      <td>HRMS software</td>\n",
       "      <td>HRMS Software is a comprehensive platform tail...</td>\n",
       "      <td>$500</td>\n",
       "    </tr>\n",
       "  </tbody>\n",
       "</table>\n",
       "</div>"
      ],
      "text/plain": [
       "                                 Product Name   \n",
       "0             Temprature Monitoring softwares  \\\n",
       "1  Length, Width & Height Measurement machine   \n",
       "2             BCDI - Classification software    \n",
       "3                   BCDI - Detection software   \n",
       "4                               HRMS software   \n",
       "\n",
       "                                 Product Description Product Price  \n",
       "0  Temperature Monitoring Software is a versatile...          $100  \n",
       "1  The Length, Width & Height Measurement Machine...          $200  \n",
       "2  BCDI - Classification Software is a powerful t...          $300  \n",
       "3  BCDI - Detection Software is an intelligent so...          $400  \n",
       "4  HRMS Software is a comprehensive platform tail...          $500  "
      ]
     },
     "execution_count": 24,
     "metadata": {},
     "output_type": "execute_result"
    }
   ],
   "source": [
    "df.head()"
   ]
  },
  {
   "cell_type": "code",
   "execution_count": 25,
   "metadata": {},
   "outputs": [],
   "source": [
    "product_names = df[\"Product Name\"].tolist()"
   ]
  },
  {
   "cell_type": "code",
   "execution_count": 26,
   "metadata": {},
   "outputs": [
    {
     "name": "stdout",
     "output_type": "stream",
     "text": [
      "Product Names:\n",
      "1. Temprature Monitoring softwares\n",
      "2. Length, Width & Height Measurement machine\n",
      "3. BCDI - Classification software \n",
      "4. BCDI - Detection software\n",
      "5. HRMS software\n",
      "6. ERP softwares\n",
      "7. Chat-Bots\n"
     ]
    }
   ],
   "source": [
    "print(\"Product Names:\")\n",
    "for index, name in enumerate(product_names, start=1):\n",
    "    print(f\"{index}. {name}\")"
   ]
  },
  {
   "cell_type": "code",
   "execution_count": 31,
   "metadata": {},
   "outputs": [],
   "source": [
    "selected_index = int(input(\"Enter the index of the desired Product Name: \")) - 1"
   ]
  },
  {
   "cell_type": "code",
   "execution_count": 32,
   "metadata": {},
   "outputs": [
    {
     "name": "stdout",
     "output_type": "stream",
     "text": [
      "Invalid index entered.\n"
     ]
    }
   ],
   "source": [
    "if 0 <= selected_index < len(product_names):\n",
    "    selected_product_name = product_names[selected_index]\n",
    "    selected_product_desc = df.loc[df[\"Product Name\"] == selected_product_name, \"Product Description\"].values[0]\n",
    "    \n",
    "    # Display the Product Description\n",
    "    print(f\"Product Description for '{selected_product_name}': {selected_product_desc}\")\n",
    "else:\n",
    "    print(\"Invalid index entered.\")"
   ]
  },
  {
   "cell_type": "code",
   "execution_count": 34,
   "metadata": {},
   "outputs": [],
   "source": [
    "def show_products():\n",
    "    product_names = df[\"Product Name\"].tolist()\n",
    "    print(\"Product Names:\")\n",
    "    for index, name in enumerate(product_names, start=1):\n",
    "        print(f\"{index}. {name}\")"
   ]
  },
  {
   "cell_type": "code",
   "execution_count": 36,
   "metadata": {},
   "outputs": [
    {
     "name": "stdout",
     "output_type": "stream",
     "text": [
      "Product Names:\n",
      "1. Temprature Monitoring softwares\n",
      "2. Length, Width & Height Measurement machine\n",
      "3. BCDI - Classification software \n",
      "4. BCDI - Detection software\n",
      "5. HRMS software\n",
      "6. ERP softwares\n",
      "7. Chat-Bots\n"
     ]
    }
   ],
   "source": [
    "show_products()"
   ]
  },
  {
   "cell_type": "code",
   "execution_count": 41,
   "metadata": {},
   "outputs": [],
   "source": [
    "def product_desc(selected_index):\n",
    "    if 0 <= selected_index < len(product_names):\n",
    "        selected_product_name = product_names[selected_index]\n",
    "        selected_product_desc = df.loc[df[\"Product Name\"] == selected_product_name, \"Product Description\"].values[0]\n",
    "    \n",
    "    # Display the Product Description\n",
    "        print(f\"Product Description for '{selected_product_name}': {selected_product_desc}\")\n",
    "    else:\n",
    "        print(\"Invalid index entered.\")"
   ]
  },
  {
   "cell_type": "code",
   "execution_count": 42,
   "metadata": {},
   "outputs": [
    {
     "name": "stdout",
     "output_type": "stream",
     "text": [
      "Product Description for 'ERP softwares': Enterprise Resource Planning (ERP) Software is an integrated suite of applications designed to manage and optimize various business processes across different departments within an organization. It encompasses functions such as finance, supply chain, manufacturing, sales, and customer relationship management. ERP software enables data sharing, standardizes processes, enhances collaboration, and provides real-time insights for informed decision-making, contributing to overall operational efficiency.\n"
     ]
    }
   ],
   "source": [
    "product_desc(5)"
   ]
  },
  {
   "cell_type": "code",
   "execution_count": 45,
   "metadata": {},
   "outputs": [],
   "source": [
    "def product_desc(selected_index):\n",
    "    if 0 <= selected_index < len(product_names):\n",
    "        selected_product_name = product_names[selected_index]\n",
    "        selected_product_price = df.loc[df[\"Product Name\"] == selected_product_name, \"Product Price\"].values[0]\n",
    "    \n",
    "    # Display the Product Description\n",
    "        print(f\"Product Price for '{selected_product_name}': {selected_product_price}\")\n",
    "    else:\n",
    "        print(\"Invalid index entered.\")"
   ]
  },
  {
   "cell_type": "code",
   "execution_count": 46,
   "metadata": {},
   "outputs": [
    {
     "name": "stdout",
     "output_type": "stream",
     "text": [
      "Product Price for 'ERP softwares': $700\n"
     ]
    }
   ],
   "source": [
    "product_desc(5)"
   ]
  },
  {
   "cell_type": "code",
   "execution_count": 48,
   "metadata": {},
   "outputs": [
    {
     "data": {
      "text/html": [
       "<div>\n",
       "<style scoped>\n",
       "    .dataframe tbody tr th:only-of-type {\n",
       "        vertical-align: middle;\n",
       "    }\n",
       "\n",
       "    .dataframe tbody tr th {\n",
       "        vertical-align: top;\n",
       "    }\n",
       "\n",
       "    .dataframe thead th {\n",
       "        text-align: right;\n",
       "    }\n",
       "</style>\n",
       "<table border=\"1\" class=\"dataframe\">\n",
       "  <thead>\n",
       "    <tr style=\"text-align: right;\">\n",
       "      <th></th>\n",
       "      <th>Product Name</th>\n",
       "      <th>Product Description</th>\n",
       "      <th>Product Price</th>\n",
       "    </tr>\n",
       "  </thead>\n",
       "  <tbody>\n",
       "    <tr>\n",
       "      <th>0</th>\n",
       "      <td>Temprature Monitoring softwares</td>\n",
       "      <td>Temperature Monitoring Software is a versatile...</td>\n",
       "      <td>$100</td>\n",
       "    </tr>\n",
       "    <tr>\n",
       "      <th>1</th>\n",
       "      <td>Length, Width &amp; Height Measurement machine</td>\n",
       "      <td>The Length, Width &amp; Height Measurement Machine...</td>\n",
       "      <td>$200</td>\n",
       "    </tr>\n",
       "    <tr>\n",
       "      <th>2</th>\n",
       "      <td>BCDI - Classification software</td>\n",
       "      <td>BCDI - Classification Software is a powerful t...</td>\n",
       "      <td>$300</td>\n",
       "    </tr>\n",
       "    <tr>\n",
       "      <th>3</th>\n",
       "      <td>BCDI - Detection software</td>\n",
       "      <td>BCDI - Detection Software is an intelligent so...</td>\n",
       "      <td>$400</td>\n",
       "    </tr>\n",
       "    <tr>\n",
       "      <th>4</th>\n",
       "      <td>HRMS software</td>\n",
       "      <td>HRMS Software is a comprehensive platform tail...</td>\n",
       "      <td>$500</td>\n",
       "    </tr>\n",
       "    <tr>\n",
       "      <th>5</th>\n",
       "      <td>ERP softwares</td>\n",
       "      <td>Enterprise Resource Planning (ERP) Software is...</td>\n",
       "      <td>$700</td>\n",
       "    </tr>\n",
       "    <tr>\n",
       "      <th>6</th>\n",
       "      <td>Chat-Bots</td>\n",
       "      <td>Chat-Bots are intelligent virtual assistants t...</td>\n",
       "      <td>$800</td>\n",
       "    </tr>\n",
       "  </tbody>\n",
       "</table>\n",
       "</div>"
      ],
      "text/plain": [
       "                                 Product Name   \n",
       "0             Temprature Monitoring softwares  \\\n",
       "1  Length, Width & Height Measurement machine   \n",
       "2             BCDI - Classification software    \n",
       "3                   BCDI - Detection software   \n",
       "4                               HRMS software   \n",
       "5                               ERP softwares   \n",
       "6                                   Chat-Bots   \n",
       "\n",
       "                                 Product Description Product Price  \n",
       "0  Temperature Monitoring Software is a versatile...          $100  \n",
       "1  The Length, Width & Height Measurement Machine...          $200  \n",
       "2  BCDI - Classification Software is a powerful t...          $300  \n",
       "3  BCDI - Detection Software is an intelligent so...          $400  \n",
       "4  HRMS Software is a comprehensive platform tail...          $500  \n",
       "5  Enterprise Resource Planning (ERP) Software is...          $700  \n",
       "6  Chat-Bots are intelligent virtual assistants t...          $800  "
      ]
     },
     "execution_count": 48,
     "metadata": {},
     "output_type": "execute_result"
    }
   ],
   "source": [
    "df.head(10)"
   ]
  },
  {
   "cell_type": "code",
   "execution_count": null,
   "metadata": {},
   "outputs": [],
   "source": []
  }
 ],
 "metadata": {
  "kernelspec": {
   "display_name": "Python 3",
   "language": "python",
   "name": "python3"
  },
  "language_info": {
   "codemirror_mode": {
    "name": "ipython",
    "version": 3
   },
   "file_extension": ".py",
   "mimetype": "text/x-python",
   "name": "python",
   "nbconvert_exporter": "python",
   "pygments_lexer": "ipython3",
   "version": "3.11.3"
  },
  "orig_nbformat": 4
 },
 "nbformat": 4,
 "nbformat_minor": 2
}
